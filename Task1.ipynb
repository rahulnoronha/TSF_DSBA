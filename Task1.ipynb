{
  "nbformat": 4,
  "nbformat_minor": 0,
  "metadata": {
    "kernelspec": {
      "display_name": "Python 3",
      "language": "python",
      "name": "python3"
    },
    "language_info": {
      "codemirror_mode": {
        "name": "ipython",
        "version": 3
      },
      "file_extension": ".py",
      "mimetype": "text/x-python",
      "name": "python",
      "nbconvert_exporter": "python",
      "pygments_lexer": "ipython3",
      "version": "3.7.6"
    },
    "colab": {
      "name": "Task1.ipynb",
      "provenance": [],
      "collapsed_sections": []
    }
  },
  "cells": [
    {
      "cell_type": "markdown",
      "metadata": {
        "id": "ytA34SYFn45N"
      },
      "source": [
        "#<font color=\"magenta\">**Task 1: <ins>Prediction using Supervised ML</ins>**</font>\n",
        "### To Predict the percentage of a student on the basis of the number of hours they study.\n",
        "### What will be predicted score if a student studies for 9.25 hrs/ day?\n",
        "#### <font color=\"purple\">**Author:**</font> **Rahul Noronha**\n"
      ]
    },
    {
      "cell_type": "markdown",
      "metadata": {
        "id": "54_Qipkrn45s"
      },
      "source": [
        "## Link to Data used in the Problem: [**Data**](http://bit.ly/w-data)"
      ]
    },
    {
      "cell_type": "markdown",
      "metadata": {
        "id": "oKO3ndstn45v"
      },
      "source": [
        "### **<ins>Steps involved in Supervised ML</ins>:**\n",
        "1. Data Collection.\n",
        "1. Data Preparation.\n",
        "  1. Clean Data.\n",
        "  1. Randomize Data.\n",
        "  1. Visualize Data.\n",
        "  1. Split Data into Training and Testing Sets.\n",
        "1. Selecting a Model.\n",
        "1. Training the Model.\n",
        "1. Making Predictions using the trained Model.\n",
        "1. Evaluating the Model.\n"
      ]
    },
    {
      "cell_type": "markdown",
      "metadata": {
        "id": "xnp9U5AWn45w"
      },
      "source": [
        "## **Step 1: <ins>Data Collection</ins>**\n",
        "We have obtained the data from the link shown above. The data was provided by The Sparks Foundation to be used for this particular task. The data is stored in a CSV file."
      ]
    },
    {
      "cell_type": "code",
      "metadata": {
        "id": "wffVKgzgpmdh"
      },
      "source": [
        "#Importing Necessary Libraries.\r\n",
        "import pandas as pd #For data processing.\r\n",
        "import numpy as np #For data processing.\r\n",
        "import sklearn #For Linear regression.\r\n",
        "from matplotlib import pyplot as plt #For visualization.\r\n",
        "from sklearn.model_selection import * #For Linear regression.\r\n",
        "from sklearn.utils import shuffle #For Randomization\r\n",
        "from sklearn.linear_model import * #For Linear regression.\r\n",
        "from sklearn import metrics #To measure the performance of the model.\r\n",
        "%matplotlib inline \r\n",
        "#To make the plots appear, and get stored within the Notebook Window."
      ],
      "execution_count": 1,
      "outputs": []
    },
    {
      "cell_type": "code",
      "metadata": {
        "id": "myeCwz5fxJ16"
      },
      "source": [
        "#Store the data from the url using pandas \r\n",
        "data = pd.read_csv('http://bit.ly/w-data', sep=',') \r\n",
        "#read_csv method is used passing seperator as ',' which will extract data from the csv file into a pandas Data Frame."
      ],
      "execution_count": 2,
      "outputs": []
    },
    {
      "cell_type": "code",
      "metadata": {
        "colab": {
          "base_uri": "https://localhost:8080/"
        },
        "id": "6XJnl-Inxse3",
        "outputId": "beca8ba9-02b2-455a-ed19-03313c21476e"
      },
      "source": [
        "#Ensure data is present in data variable. \r\n",
        "print(data.shape,end=\"\\n\\n\\n\\n\")#shape Returns a tuple representing the dimensionality of the DataFrame.\r\n",
        "print(data.describe(),end=\"\\n\\n\\n\\n\")#describe is used to Generate descriptive statistics of the DataFrame.\r\n",
        "print(data.to_markdown())#The entire data of the DataFrame is printed and we notice the given data has 24 values provided."
      ],
      "execution_count": 3,
      "outputs": [
        {
          "output_type": "stream",
          "text": [
            "(25, 2)\n",
            "\n",
            "\n",
            "\n",
            "           Hours     Scores\n",
            "count  25.000000  25.000000\n",
            "mean    5.012000  51.480000\n",
            "std     2.525094  25.286887\n",
            "min     1.100000  17.000000\n",
            "25%     2.700000  30.000000\n",
            "50%     4.800000  47.000000\n",
            "75%     7.400000  75.000000\n",
            "max     9.200000  95.000000\n",
            "\n",
            "\n",
            "\n",
            "|    |   Hours |   Scores |\n",
            "|---:|--------:|---------:|\n",
            "|  0 |     2.5 |       21 |\n",
            "|  1 |     5.1 |       47 |\n",
            "|  2 |     3.2 |       27 |\n",
            "|  3 |     8.5 |       75 |\n",
            "|  4 |     3.5 |       30 |\n",
            "|  5 |     1.5 |       20 |\n",
            "|  6 |     9.2 |       88 |\n",
            "|  7 |     5.5 |       60 |\n",
            "|  8 |     8.3 |       81 |\n",
            "|  9 |     2.7 |       25 |\n",
            "| 10 |     7.7 |       85 |\n",
            "| 11 |     5.9 |       62 |\n",
            "| 12 |     4.5 |       41 |\n",
            "| 13 |     3.3 |       42 |\n",
            "| 14 |     1.1 |       17 |\n",
            "| 15 |     8.9 |       95 |\n",
            "| 16 |     2.5 |       30 |\n",
            "| 17 |     1.9 |       24 |\n",
            "| 18 |     6.1 |       67 |\n",
            "| 19 |     7.4 |       69 |\n",
            "| 20 |     2.7 |       30 |\n",
            "| 21 |     4.8 |       54 |\n",
            "| 22 |     3.8 |       35 |\n",
            "| 23 |     6.9 |       76 |\n",
            "| 24 |     7.8 |       86 |\n"
          ],
          "name": "stdout"
        }
      ]
    },
    {
      "cell_type": "markdown",
      "metadata": {
        "id": "NkVfoayXFyK-"
      },
      "source": [
        "## **Step 2: <ins>Data Preparation</ins>**\r\n",
        "The data needs to be prepared before it can be used to create a Linear Regression Model and this process has sub-steps.\r\n",
        "  1. Clean Data\r\n",
        "  1. Randomize Data\r\n",
        "  1. Visualize Data\r\n",
        "  1. Split Data into Training and Test Sets"
      ]
    },
    {
      "cell_type": "markdown",
      "metadata": {
        "id": "M3IVmlojGpiM"
      },
      "source": [
        "### **<ins>Clean Data</ins>**\r\n",
        "We need to check if the data has any missing values, and if they do we need to deal with these missing values. If not we can proceed with the next step."
      ]
    },
    {
      "cell_type": "code",
      "metadata": {
        "colab": {
          "base_uri": "https://localhost:8080/"
        },
        "id": "ph1qgshFHQ2c",
        "outputId": "a43fc7b0-b0b1-478e-bb1b-d7ab32ce3583"
      },
      "source": [
        "null_values = data.isnull().sum()#isnull detect missing values and sum is used to find the total number of these missing values.\r\n",
        "print(null_values)#Print the number of null values in the DataFrame."
      ],
      "execution_count": 4,
      "outputs": [
        {
          "output_type": "stream",
          "text": [
            "Hours     0\n",
            "Scores    0\n",
            "dtype: int64\n"
          ],
          "name": "stdout"
        }
      ]
    },
    {
      "cell_type": "code",
      "metadata": {
        "id": "L9EEEUiEIrjX"
      },
      "source": [
        "#If the DataFrame has no Null values then we do not need to do any processing of Null values\r\n",
        "if (null_values.Hours==0 and null_values.Scores==0):\r\n",
        "  pass \r\n",
        "else:\r\n",
        "  data.dropna(axis=0, how='any')#Drop any row (axis=0) which has one or more Null values (how= 'any').\r\n",
        "  print(data.to_markdown())#Print the data which has been formatted to not include anymore Null values and proceed to the further steps."
      ],
      "execution_count": 5,
      "outputs": []
    },
    {
      "cell_type": "markdown",
      "metadata": {
        "id": "aXUZDgTwNBTI"
      },
      "source": [
        "### **<ins>Randomize Data</ins>**"
      ]
    },
    {
      "cell_type": "code",
      "metadata": {
        "colab": {
          "base_uri": "https://localhost:8080/"
        },
        "id": "yBGY2vNGNEXi",
        "outputId": "1e890ff2-03c6-470b-8a1f-ea3d07197291"
      },
      "source": [
        "data = shuffle(data) #To randomize the data before Linear Regression\r\n",
        "print(data.to_markdown())"
      ],
      "execution_count": 6,
      "outputs": [
        {
          "output_type": "stream",
          "text": [
            "|    |   Hours |   Scores |\n",
            "|---:|--------:|---------:|\n",
            "| 13 |     3.3 |       42 |\n",
            "|  6 |     9.2 |       88 |\n",
            "| 18 |     6.1 |       67 |\n",
            "| 20 |     2.7 |       30 |\n",
            "|  5 |     1.5 |       20 |\n",
            "|  0 |     2.5 |       21 |\n",
            "| 10 |     7.7 |       85 |\n",
            "|  2 |     3.2 |       27 |\n",
            "|  8 |     8.3 |       81 |\n",
            "| 22 |     3.8 |       35 |\n",
            "|  1 |     5.1 |       47 |\n",
            "| 11 |     5.9 |       62 |\n",
            "| 21 |     4.8 |       54 |\n",
            "| 24 |     7.8 |       86 |\n",
            "|  4 |     3.5 |       30 |\n",
            "| 23 |     6.9 |       76 |\n",
            "| 17 |     1.9 |       24 |\n",
            "| 16 |     2.5 |       30 |\n",
            "| 15 |     8.9 |       95 |\n",
            "|  7 |     5.5 |       60 |\n",
            "| 19 |     7.4 |       69 |\n",
            "| 12 |     4.5 |       41 |\n",
            "|  9 |     2.7 |       25 |\n",
            "| 14 |     1.1 |       17 |\n",
            "|  3 |     8.5 |       75 |\n"
          ],
          "name": "stdout"
        }
      ]
    },
    {
      "cell_type": "markdown",
      "metadata": {
        "id": "mL7rv0obQFOP"
      },
      "source": [
        "### **<ins>Visualize Data</ins>**"
      ]
    },
    {
      "cell_type": "code",
      "metadata": {
        "colab": {
          "base_uri": "https://localhost:8080/",
          "height": 295
        },
        "id": "rZIcn-_NQH1e",
        "outputId": "a90ee2fb-01c2-4403-b95a-fc7d8400bfa9"
      },
      "source": [
        "plt.scatter(data.Hours,data.Scores, c='orange')#Create a Scatter plot of the given Data after it has been randomized\r\n",
        "plt.xlabel('Number of Hours Studied per day by the Student')#Label the X-axis of the Scatter Plot\r\n",
        "plt.ylabel('Percentage Scored by the Student')#Label the Y-axis of the Scatter Plot\r\n",
        "plt.title('Percentage Scored vs Hours Studied per Day Scatter plot')#Title the Whole Scatter Plot\r\n",
        "plt.show()"
      ],
      "execution_count": 7,
      "outputs": [
        {
          "output_type": "display_data",
          "data": {
            "image/png": "[encoded data removed]",
            "text/plain": [
              "<Figure size 432x288 with 1 Axes>"
            ]
          },
          "metadata": {
            "tags": [],
            "needs_background": "light"
          }
        }
      ]
    },
    {
      "cell_type": "markdown",
      "metadata": {
        "id": "moK6u39yVrn7"
      },
      "source": [
        "### **<ins>Split Data into Train and Test Set</ins>**"
      ]
    },
    {
      "cell_type": "code",
      "metadata": {
        "id": "A0P15S_X_VsQ"
      },
      "source": [
        "#Split the Data into attributes (x) and output (y)\r\n",
        "x = data.iloc[:,:-1].values\r\n",
        "y = data.iloc[:,1].values"
      ],
      "execution_count": 8,
      "outputs": []
    },
    {
      "cell_type": "code",
      "metadata": {
        "id": "NQ48N4TLVwfk"
      },
      "source": [
        "#Then split the attributes and output into train set and test set using a desired test_size using train_test_split method\r\n",
        "x_train, x_test, y_train, y_test= train_test_split(x, y,test_size=0.2, random_state = 0)"
      ],
      "execution_count": 9,
      "outputs": []
    },
    {
      "cell_type": "markdown",
      "metadata": {
        "id": "_dr9yhcwAdA6"
      },
      "source": [
        "## **Step 3: <ins>Selecting a Model</ins>**"
      ]
    },
    {
      "cell_type": "markdown",
      "metadata": {
        "id": "zpxxZQn6AvK1"
      },
      "source": [
        "**As we observed in the scatterplot, we saw a positive linear relationship** **between the attributes (Hours Studied per day) and the outputs (Percentage scored) and hence we choose the Linear** **Regression Model and begin with the next step of training the algorithm.**"
      ]
    },
    {
      "cell_type": "markdown",
      "metadata": {
        "id": "BXUfPsk_BvqA"
      },
      "source": [
        "## **Step 4: <ins>Training the Model</ins>**"
      ]
    },
    {
      "cell_type": "code",
      "metadata": {
        "colab": {
          "base_uri": "https://localhost:8080/"
        },
        "id": "aYEnbYpuBMs4",
        "outputId": "cf05c1da-d733-4bc0-9837-f5cb0fb2e909"
      },
      "source": [
        "regressor = LinearRegression()\r\n",
        "regressor.fit(x_train, y_train)"
      ],
      "execution_count": 10,
      "outputs": [
        {
          "output_type": "execute_result",
          "data": {
            "text/plain": [
              "LinearRegression(copy_X=True, fit_intercept=True, n_jobs=None, normalize=False)"
            ]
          },
          "metadata": {
            "tags": []
          },
          "execution_count": 10
        }
      ]
    },
    {
      "cell_type": "code",
      "metadata": {
        "colab": {
          "base_uri": "https://localhost:8080/",
          "height": 295
        },
        "id": "6iXaKHQ1CenI",
        "outputId": "ad45f538-ca37-42f9-ffde-b8edccb328bd"
      },
      "source": [
        "#Plot the regression line using the equation y = mx + b where the coefficients m and b are determined by the linear regression process\r\n",
        "line = regressor.coef_*x+regressor.intercept_\r\n",
        "#Plot the data and show the regression line on the same plot \r\n",
        "plt.scatter(x, y, c='orange')\r\n",
        "plt.plot(x, line, c='red')\r\n",
        "plt.xlabel('Number of Hours Studied per day by the Student')#Label the X-axis of the Scatter Plot\r\n",
        "plt.ylabel('Percentage Scored by the Student')#Label the Y-axis of the Scatter Plot\r\n",
        "plt.title('Percentage Scored vs Hours Studied per Day Scatter plot along with the Regression Line shown in red')#Title the Whole Scatter Plot\r\n",
        "plt.show()"
      ],
      "execution_count": 11,
      "outputs": [
        {
          "output_type": "display_data",
          "data": {
            "image/png": "[encoded data removed]",
            "text/plain": [
              "<Figure size 432x288 with 1 Axes>"
            ]
          },
          "metadata": {
            "tags": [],
            "needs_background": "light"
          }
        }
      ]
    },
    {
      "cell_type": "markdown",
      "metadata": {
        "id": "Fb8kd0TgD6DT"
      },
      "source": [
        "## **Step 5: <ins>Making Predictions using the Model</ins>**"
      ]
    },
    {
      "cell_type": "markdown",
      "metadata": {
        "id": "gz3G8QFKHXKb"
      },
      "source": [
        "**Let us make predictions for a few test values using the built Regression Model and compare them with the actual outputs obtained in the Data given to see how the Model performs, and later in the Testing phase we will use some statistical tools to check the performance of the model.** "
      ]
    },
    {
      "cell_type": "code",
      "metadata": {
        "colab": {
          "base_uri": "https://localhost:8080/"
        },
        "id": "CknNbXFaEFGd",
        "outputId": "6b6a753d-3a17-4879-b8e9-3462512a576a"
      },
      "source": [
        "print(x_test)#Testing data that is passed in Hours\r\n",
        "y_pred = regressor.predict(x_test) #Predicting the scores by the Linear Regression Model for the test inputs x_test\r\n"
      ],
      "execution_count": 12,
      "outputs": [
        {
          "output_type": "stream",
          "text": [
            "[[2.5]\n",
            " [6.1]\n",
            " [5.5]\n",
            " [1.9]\n",
            " [5.9]]\n"
          ],
          "name": "stdout"
        }
      ]
    },
    {
      "cell_type": "code",
      "metadata": {
        "colab": {
          "base_uri": "https://localhost:8080/"
        },
        "id": "hA6ZBszAEoyx",
        "outputId": "50942469-005e-4460-96ef-88afe7d6dc36"
      },
      "source": [
        "comparison_frame = pd.DataFrame({'Actual Outcome':y_test, 'Predicted Outcome':y_pred})\r\n",
        "print(comparison_frame.to_markdown())"
      ],
      "execution_count": 13,
      "outputs": [
        {
          "output_type": "stream",
          "text": [
            "|    |   Actual Outcome |   Predicted Outcome |\n",
            "|---:|-----------------:|--------------------:|\n",
            "|  0 |               21 |             26.8133 |\n",
            "|  1 |               67 |             61.6493 |\n",
            "|  2 |               60 |             55.8433 |\n",
            "|  3 |               24 |             21.0073 |\n",
            "|  4 |               62 |             59.714  |\n"
          ],
          "name": "stdout"
        }
      ]
    },
    {
      "cell_type": "markdown",
      "metadata": {
        "id": "o-6DOCCyFVXx"
      },
      "source": [
        "**Now we need to find out how much percentage a student studying for 9.25 hours** \r\n",
        "**per day will obtain.**"
      ]
    },
    {
      "cell_type": "code",
      "metadata": {
        "colab": {
          "base_uri": "https://localhost:8080/"
        },
        "id": "HEQ7T6tyFmb-",
        "outputId": "a6bd663a-6d38-4d3b-cb5b-a9d50c705f3d"
      },
      "source": [
        "test_hour = 9.25\r\n",
        "prediction_output = regressor.predict([[test_hour]])\r\n",
        "print(prediction_output)\r\n",
        "print(f\"Number of Hours Studied per day = {test_hour}/day. \")\r\n",
        "print(f\"Predicted Percentage of Student is = {prediction_output[0]}\")\r\n"
      ],
      "execution_count": 14,
      "outputs": [
        {
          "output_type": "stream",
          "text": [
            "[92.13082369]\n",
            "Number of Hours Studied per day = 9.25/day. \n",
            "Predicted Percentage of Student is = 92.1308236923214\n"
          ],
          "name": "stdout"
        }
      ]
    },
    {
      "cell_type": "markdown",
      "metadata": {
        "id": "JUZwy1fsJura"
      },
      "source": [
        "## **Step 6: <ins>Evaluating the Model</ins>**"
      ]
    },
    {
      "cell_type": "markdown",
      "metadata": {
        "id": "7Is9bNk7J5qT"
      },
      "source": [
        "**Now we will evaluate the Model performance using some Statistical Methods.**\r\n"
      ]
    },
    {
      "cell_type": "code",
      "metadata": {
        "colab": {
          "base_uri": "https://localhost:8080/"
        },
        "id": "n0mD0XfPUSgT",
        "outputId": "f4cc6aae-7c96-4fc7-ef3b-cb2b75865d87"
      },
      "source": [
        "print(regressor.score(x_test,y_test))"
      ],
      "execution_count": 15,
      "outputs": [
        {
          "output_type": "stream",
          "text": [
            "0.9530294955738032\n"
          ],
          "name": "stdout"
        }
      ]
    },
    {
      "cell_type": "code",
      "metadata": {
        "colab": {
          "base_uri": "https://localhost:8080/"
        },
        "id": "LtVZArcMUgg6",
        "outputId": "811dbde1-fa4c-4368-c3af-e4840a831b27"
      },
      "source": [
        "print('Mean Absolute Error:',metrics.mean_absolute_error(y_test, y_pred))\r\n",
        "print('Mean Sqaure Error:',metrics.mean_squared_error(y_test, y_pred ))\r\n",
        "print('Root Mean Sqaure Error:',metrics.mean_squared_error(y_test, y_pred )**0.5)\r\n"
      ],
      "execution_count": 16,
      "outputs": [
        {
          "output_type": "stream",
          "text": [
            "Mean Absolute Error: 4.119885052336925\n",
            "Mean Sqaure Error: 18.7769288494164\n",
            "Root Mean Sqaure Error: 4.333235378953744\n"
          ],
          "name": "stdout"
        }
      ]
    },
    {
      "cell_type": "markdown",
      "metadata": {
        "id": "aIuxWigrV89r"
      },
      "source": [
        "**This means the model gives** \r\n",
        "1. R-squared value of 0.9530294955738032 \r\n",
        "1. Mean Absolute Error: 4.119885052336925\r\n",
        "1. Mean Sqaure Error: 18.7769288494164\r\n",
        "1. Root Mean Sqaure Error: 4.333235378953744"
      ]
    },
    {
      "cell_type": "code",
      "metadata": {
        "id": "XoY7HzGIWZ2u"
      },
      "source": [
        ""
      ],
      "execution_count": null,
      "outputs": []
    }
  ]
}