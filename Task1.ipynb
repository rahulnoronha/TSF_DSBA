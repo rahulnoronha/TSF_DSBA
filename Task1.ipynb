{
 "cells": [
  {
   "cell_type": "markdown",
   "metadata": {
    "id": "ytA34SYFn45N"
   },
   "source": [
    "# <font color=\"blue\">**Task 1: <ins>Prediction using Supervised ML</ins>**</font>\n",
    "### To Predict the percentage of a student on the basis of the number of hours they study.\n",
    "### What will be predicted score if a student studies for 9.25 hrs/ day?\n",
    "### <font color=\"purple\">**Author:**</font> **Rahul Noronha**\n"
   ]
  },
  {
   "cell_type": "markdown",
   "metadata": {
    "id": "54_Qipkrn45s"
   },
   "source": [
    "## Link to Data used in the Problem: [**Data**](http://bit.ly/w-data)"
   ]
  },
  {
   "cell_type": "markdown",
   "metadata": {
    "id": "oKO3ndstn45v"
   },
   "source": [
    "### **<ins>Steps involved in Supervised ML</ins>:**\n",
    "1. Data Collection.\n",
    "1. Data Preparation.\n",
    "  1. Clean Data.\n",
    "  1. Randomize Data.\n",
    "  1. Visualize Data.\n",
    "  1. Split Data into Training and Testing Sets.\n",
    "1. Selecting a Model.\n",
    "1. Training the Model.\n",
    "1. Making Predictions using the trained Model.\n",
    "1. Evaluating the Model.\n"
   ]
  },
  {
   "cell_type": "markdown",
   "metadata": {
    "id": "xnp9U5AWn45w"
   },
   "source": [
    "## **Step 1: <ins>Data Collection</ins>**\n",
    "We have obtained the data from the link shown above. The data was provided by The Sparks Foundation to be used for this particular task. The data is stored in a CSV file."
   ]
  },
  {
   "cell_type": "code",
   "execution_count": 1,
   "metadata": {
    "id": "wffVKgzgpmdh"
   },
   "outputs": [],
   "source": [
    "#Importing Necessary Libraries.\n",
    "import pandas as pd #For data processing.\n",
    "import numpy as np #For data processing.\n",
    "import sklearn #For Linear regression.\n",
    "from matplotlib import pyplot as plt #For visualization.\n",
    "from sklearn.model_selection import * #For Linear regression.\n",
    "from sklearn.utils import shuffle #For Randomization\n",
    "from sklearn.linear_model import * #For Linear regression.\n",
    "from sklearn import metrics #To measure the performance of the model.\n",
    "%matplotlib inline \n",
    "#To make the plots appear, and get stored within the Notebook Window."
   ]
  },
  {
   "cell_type": "code",
   "execution_count": 2,
   "metadata": {
    "id": "myeCwz5fxJ16"
   },
   "outputs": [],
   "source": [
    "#Store the data from the url using pandas \n",
    "data = pd.read_csv('http://bit.ly/w-data', sep=',') \n",
    "#read_csv method is used passing seperator as ',' which will extract data from the csv file into a pandas Data Frame."
   ]
  },
  {
   "cell_type": "code",
   "execution_count": 3,
   "metadata": {
    "colab": {
     "base_uri": "https://localhost:8080/"
    },
    "id": "6XJnl-Inxse3",
    "outputId": "beca8ba9-02b2-455a-ed19-03313c21476e"
   },
   "outputs": [
    {
     "name": "stdout",
     "output_type": "stream",
     "text": [
      "(25, 2)\n",
      "\n",
      "\n",
      "\n",
      "           Hours     Scores\n",
      "count  25.000000  25.000000\n",
      "mean    5.012000  51.480000\n",
      "std     2.525094  25.286887\n",
      "min     1.100000  17.000000\n",
      "25%     2.700000  30.000000\n",
      "50%     4.800000  47.000000\n",
      "75%     7.400000  75.000000\n",
      "max     9.200000  95.000000\n",
      "\n",
      "\n",
      "\n",
      "|    |   Hours |   Scores |\n",
      "|---:|--------:|---------:|\n",
      "|  0 |     2.5 |       21 |\n",
      "|  1 |     5.1 |       47 |\n",
      "|  2 |     3.2 |       27 |\n",
      "|  3 |     8.5 |       75 |\n",
      "|  4 |     3.5 |       30 |\n",
      "|  5 |     1.5 |       20 |\n",
      "|  6 |     9.2 |       88 |\n",
      "|  7 |     5.5 |       60 |\n",
      "|  8 |     8.3 |       81 |\n",
      "|  9 |     2.7 |       25 |\n",
      "| 10 |     7.7 |       85 |\n",
      "| 11 |     5.9 |       62 |\n",
      "| 12 |     4.5 |       41 |\n",
      "| 13 |     3.3 |       42 |\n",
      "| 14 |     1.1 |       17 |\n",
      "| 15 |     8.9 |       95 |\n",
      "| 16 |     2.5 |       30 |\n",
      "| 17 |     1.9 |       24 |\n",
      "| 18 |     6.1 |       67 |\n",
      "| 19 |     7.4 |       69 |\n",
      "| 20 |     2.7 |       30 |\n",
      "| 21 |     4.8 |       54 |\n",
      "| 22 |     3.8 |       35 |\n",
      "| 23 |     6.9 |       76 |\n",
      "| 24 |     7.8 |       86 |\n"
     ]
    }
   ],
   "source": [
    "#Ensure data is present in data variable. \n",
    "print(data.shape,end=\"\\n\\n\\n\\n\")#shape Returns a tuple representing the dimensionality of the DataFrame.\n",
    "print(data.describe(),end=\"\\n\\n\\n\\n\")#describe is used to Generate descriptive statistics of the DataFrame.\n",
    "print(data.to_markdown())#The entire data of the DataFrame is printed and we notice the given data has 24 values provided."
   ]
  },
  {
   "cell_type": "markdown",
   "metadata": {
    "id": "NkVfoayXFyK-"
   },
   "source": [
    "## **Step 2: <ins>Data Preparation</ins>**\n",
    "The data needs to be prepared before it can be used to create a Linear Regression Model and this process has sub-steps.\n",
    "  1. Clean Data\n",
    "  1. Randomize Data\n",
    "  1. Visualize Data\n",
    "  1. Split Data into Training and Test Sets"
   ]
  },
  {
   "cell_type": "markdown",
   "metadata": {
    "id": "M3IVmlojGpiM"
   },
   "source": [
    "### **<ins>Clean Data</ins>**\n",
    "We need to check if the data has any missing values, and if they do we need to deal with these missing values. If not we can proceed with the next step."
   ]
  },
  {
   "cell_type": "code",
   "execution_count": 4,
   "metadata": {
    "colab": {
     "base_uri": "https://localhost:8080/"
    },
    "id": "ph1qgshFHQ2c",
    "outputId": "a43fc7b0-b0b1-478e-bb1b-d7ab32ce3583"
   },
   "outputs": [
    {
     "name": "stdout",
     "output_type": "stream",
     "text": [
      "Hours     0\n",
      "Scores    0\n",
      "dtype: int64\n"
     ]
    }
   ],
   "source": [
    "null_values = data.isnull().sum()#isnull detect missing values and sum is used to find the total number of these missing values.\n",
    "print(null_values)#Print the number of null values in the DataFrame."
   ]
  },
  {
   "cell_type": "code",
   "execution_count": 5,
   "metadata": {
    "id": "L9EEEUiEIrjX"
   },
   "outputs": [],
   "source": [
    "#If the DataFrame has no Null values then we do not need to do any processing of Null values\n",
    "if (null_values.Hours==0 and null_values.Scores==0):\n",
    "  pass \n",
    "else:\n",
    "  data.dropna(axis=0, how='any')#Drop any row (axis=0) which has one or more Null values (how= 'any').\n",
    "  print(data.to_markdown())#Print the data which has been formatted to not include anymore Null values and proceed to the further steps."
   ]
  },
  {
   "cell_type": "markdown",
   "metadata": {
    "id": "aXUZDgTwNBTI"
   },
   "source": [
    "### **<ins>Randomize Data</ins>**"
   ]
  },
  {
   "cell_type": "code",
   "execution_count": 6,
   "metadata": {
    "colab": {
     "base_uri": "https://localhost:8080/"
    },
    "id": "yBGY2vNGNEXi",
    "outputId": "1e890ff2-03c6-470b-8a1f-ea3d07197291"
   },
   "outputs": [
    {
     "name": "stdout",
     "output_type": "stream",
     "text": [
      "|    |   Hours |   Scores |\n",
      "|---:|--------:|---------:|\n",
      "|  5 |     1.5 |       20 |\n",
      "| 17 |     1.9 |       24 |\n",
      "| 10 |     7.7 |       85 |\n",
      "| 18 |     6.1 |       67 |\n",
      "|  2 |     3.2 |       27 |\n",
      "|  7 |     5.5 |       60 |\n",
      "| 21 |     4.8 |       54 |\n",
      "| 24 |     7.8 |       86 |\n",
      "| 22 |     3.8 |       35 |\n",
      "| 16 |     2.5 |       30 |\n",
      "|  1 |     5.1 |       47 |\n",
      "|  8 |     8.3 |       81 |\n",
      "|  4 |     3.5 |       30 |\n",
      "|  3 |     8.5 |       75 |\n",
      "| 11 |     5.9 |       62 |\n",
      "| 12 |     4.5 |       41 |\n",
      "| 23 |     6.9 |       76 |\n",
      "| 15 |     8.9 |       95 |\n",
      "| 19 |     7.4 |       69 |\n",
      "| 20 |     2.7 |       30 |\n",
      "|  0 |     2.5 |       21 |\n",
      "|  9 |     2.7 |       25 |\n",
      "|  6 |     9.2 |       88 |\n",
      "| 13 |     3.3 |       42 |\n",
      "| 14 |     1.1 |       17 |\n"
     ]
    }
   ],
   "source": [
    "data = shuffle(data) #To randomize the data before Linear Regression\n",
    "print(data.to_markdown())"
   ]
  },
  {
   "cell_type": "markdown",
   "metadata": {
    "id": "mL7rv0obQFOP"
   },
   "source": [
    "### **<ins>Visualize Data</ins>**"
   ]
  },
  {
   "cell_type": "code",
   "execution_count": 7,
   "metadata": {
    "colab": {
     "base_uri": "https://localhost:8080/",
     "height": 295
    },
    "id": "rZIcn-_NQH1e",
    "outputId": "a90ee2fb-01c2-4403-b95a-fc7d8400bfa9"
   },
   "outputs": [
    {
     "data": {
      "image/png": "[encoded data removed]",
      "text/plain": [
       "<Figure size 432x288 with 1 Axes>"
      ]
     },
     "metadata": {
      "needs_background": "light"
     },
     "output_type": "display_data"
    }
   ],
   "source": [
    "plt.scatter(data.Hours,data.Scores, c='orange')#Create a Scatter plot of the given Data after it has been randomized\n",
    "plt.xlabel('Number of Hours Studied per day by the Student')#Label the X-axis of the Scatter Plot\n",
    "plt.ylabel('Percentage Scored by the Student')#Label the Y-axis of the Scatter Plot\n",
    "plt.title('Percentage Scored vs Hours Studied per Day Scatter plot')#Title the Whole Scatter Plot\n",
    "plt.show()"
   ]
  },
  {
   "cell_type": "markdown",
   "metadata": {
    "id": "moK6u39yVrn7"
   },
   "source": [
    "### **<ins>Split Data into Train and Test Set</ins>**"
   ]
  },
  {
   "cell_type": "code",
   "execution_count": 8,
   "metadata": {
    "id": "A0P15S_X_VsQ"
   },
   "outputs": [],
   "source": [
    "#Split the Data into attributes (x) and output (y)\n",
    "x = data.iloc[:,:-1].values\n",
    "y = data.iloc[:,1].values"
   ]
  },
  {
   "cell_type": "code",
   "execution_count": 9,
   "metadata": {
    "id": "NQ48N4TLVwfk"
   },
   "outputs": [],
   "source": [
    "#Then split the attributes and output into train set and test set using a desired test_size using train_test_split method\n",
    "x_train, x_test, y_train, y_test= train_test_split(x, y,test_size=0.2, random_state = 0)"
   ]
  },
  {
   "cell_type": "markdown",
   "metadata": {
    "id": "_dr9yhcwAdA6"
   },
   "source": [
    "## **Step 3: <ins>Selecting a Model</ins>**"
   ]
  },
  {
   "cell_type": "markdown",
   "metadata": {
    "id": "zpxxZQn6AvK1"
   },
   "source": [
    "As we observed in the scatterplot, we saw a positive linear relationship between the attributes (Hours Studied per day) and the outputs (Percentage scored) and hence we choose the Linear Regression Model and begin with the next step of training the algorithm."
   ]
  },
  {
   "cell_type": "markdown",
   "metadata": {
    "id": "BXUfPsk_BvqA"
   },
   "source": [
    "## **Step 4: <ins>Training the Model</ins>**"
   ]
  },
  {
   "cell_type": "code",
   "execution_count": 10,
   "metadata": {
    "colab": {
     "base_uri": "https://localhost:8080/"
    },
    "id": "aYEnbYpuBMs4",
    "outputId": "cf05c1da-d733-4bc0-9837-f5cb0fb2e909"
   },
   "outputs": [
    {
     "data": {
      "text/plain": [
       "LinearRegression()"
      ]
     },
     "execution_count": 10,
     "metadata": {},
     "output_type": "execute_result"
    }
   ],
   "source": [
    "regressor = LinearRegression()\n",
    "regressor.fit(x_train, y_train)"
   ]
  },
  {
   "cell_type": "code",
   "execution_count": 11,
   "metadata": {
    "colab": {
     "base_uri": "https://localhost:8080/",
     "height": 295
    },
    "id": "6iXaKHQ1CenI",
    "outputId": "ad45f538-ca37-42f9-ffde-b8edccb328bd"
   },
   "outputs": [
    {
     "data": {
      "image/png": "[encoded data removed]",
      "text/plain": [
       "<Figure size 432x288 with 1 Axes>"
      ]
     },
     "metadata": {
      "needs_background": "light"
     },
     "output_type": "display_data"
    }
   ],
   "source": [
    "#Plot the regression line using the equation y = mx + b where the coefficients m and b are determined by the linear regression process\n",
    "line = regressor.coef_*x+regressor.intercept_\n",
    "#Plot the data and show the regression line on the same plot \n",
    "plt.scatter(x, y, c='orange')\n",
    "plt.plot(x, line, c='red')\n",
    "plt.xlabel('Number of Hours Studied per day by the Student')#Label the X-axis of the Scatter Plot\n",
    "plt.ylabel('Percentage Scored by the Student')#Label the Y-axis of the Scatter Plot\n",
    "plt.title('Percentage Scored vs Hours Studied per Day Scatter plot along with the Regression Line shown in red')#Title the Whole Scatter Plot\n",
    "plt.show()"
   ]
  },
  {
   "cell_type": "markdown",
   "metadata": {
    "id": "Fb8kd0TgD6DT"
   },
   "source": [
    "## **Step 5: <ins>Making Predictions using the Model</ins>**"
   ]
  },
  {
   "cell_type": "markdown",
   "metadata": {
    "id": "gz3G8QFKHXKb"
   },
   "source": [
    "Let us make predictions for a few test values using the built Regression Model and compare them with the actual outputs obtained in the Data given to see how the Model performs, and later in the Testing phase we will use some statistical tools to check the performance of the model."
   ]
  },
  {
   "cell_type": "code",
   "execution_count": 12,
   "metadata": {
    "colab": {
     "base_uri": "https://localhost:8080/"
    },
    "id": "CknNbXFaEFGd",
    "outputId": "6b6a753d-3a17-4879-b8e9-3462512a576a"
   },
   "outputs": [
    {
     "name": "stdout",
     "output_type": "stream",
     "text": [
      "[[5.5]\n",
      " [7.7]\n",
      " [2.7]\n",
      " [6.9]\n",
      " [8.3]]\n"
     ]
    }
   ],
   "source": [
    "print(x_test)#Testing data that is passed in Hours\n",
    "y_pred = regressor.predict(x_test) #Predicting the scores by the Linear Regression Model for the test inputs x_test\n"
   ]
  },
  {
   "cell_type": "code",
   "execution_count": 13,
   "metadata": {
    "colab": {
     "base_uri": "https://localhost:8080/"
    },
    "id": "hA6ZBszAEoyx",
    "outputId": "50942469-005e-4460-96ef-88afe7d6dc36"
   },
   "outputs": [
    {
     "name": "stdout",
     "output_type": "stream",
     "text": [
      "|    |   Actual Outcome |   Predicted Outcome |\n",
      "|---:|-----------------:|--------------------:|\n",
      "|  0 |               60 |             55.3058 |\n",
      "|  1 |               85 |             76.3474 |\n",
      "|  2 |               30 |             28.5257 |\n",
      "|  3 |               76 |             68.6959 |\n",
      "|  4 |               81 |             82.086  |\n"
     ]
    }
   ],
   "source": [
    "comparison_frame = pd.DataFrame({'Actual Outcome':y_test, 'Predicted Outcome':y_pred})\n",
    "print(comparison_frame.to_markdown())"
   ]
  },
  {
   "cell_type": "markdown",
   "metadata": {
    "id": "o-6DOCCyFVXx"
   },
   "source": [
    "**Now we need to find out how much percentage a student studying for 9.25 hours** \n",
    "**per day will obtain.**"
   ]
  },
  {
   "cell_type": "code",
   "execution_count": 14,
   "metadata": {
    "colab": {
     "base_uri": "https://localhost:8080/"
    },
    "id": "HEQ7T6tyFmb-",
    "outputId": "a6bd663a-6d38-4d3b-cb5b-a9d50c705f3d"
   },
   "outputs": [
    {
     "name": "stdout",
     "output_type": "stream",
     "text": [
      "[91.17209195]\n",
      "Number of Hours Studied per day = 9.25/day. \n",
      "Predicted Percentage of Student is = 91.17209195439372\n"
     ]
    }
   ],
   "source": [
    "test_hour = 9.25\n",
    "prediction_output = regressor.predict([[test_hour]])\n",
    "print(prediction_output)\n",
    "print(f\"Number of Hours Studied per day = {test_hour}/day. \")\n",
    "print(f\"Predicted Percentage of Student is = {prediction_output[0]}\")\n"
   ]
  },
  {
   "cell_type": "markdown",
   "metadata": {
    "id": "JUZwy1fsJura"
   },
   "source": [
    "## **Step 6: <ins>Evaluating the Model</ins>**"
   ]
  },
  {
   "cell_type": "markdown",
   "metadata": {
    "id": "7Is9bNk7J5qT"
   },
   "source": [
    "Now we will evaluate the Model performance using some Statistical Methods.\n"
   ]
  },
  {
   "cell_type": "code",
   "execution_count": 15,
   "metadata": {
    "colab": {
     "base_uri": "https://localhost:8080/"
    },
    "id": "n0mD0XfPUSgT",
    "outputId": "f4cc6aae-7c96-4fc7-ef3b-cb2b75865d87"
   },
   "outputs": [
    {
     "name": "stdout",
     "output_type": "stream",
     "text": [
      "R-squared value:  0.9238518102278781\n",
      "Mean Absolute Error: 4.642239029818251\n",
      "Mean Sqaure Error: 30.721225681664862\n",
      "Root Mean Sqaure Error: 5.542673153061153\n"
     ]
    }
   ],
   "source": [
    "print('R-squared value: ',regressor.score(x_test,y_test))\n",
    "print('Mean Absolute Error:',metrics.mean_absolute_error(y_test, y_pred))\n",
    "print('Mean Sqaure Error:',metrics.mean_squared_error(y_test, y_pred ))\n",
    "print('Root Mean Sqaure Error:',metrics.mean_squared_error(y_test, y_pred )**0.5)\n"
   ]
  },
  {
   "cell_type": "code",
   "execution_count": null,
   "metadata": {
    "id": "XoY7HzGIWZ2u"
   },
   "outputs": [],
   "source": []
  }
 ],
 "metadata": {
  "colab": {
   "collapsed_sections": [],
   "name": "Task1.ipynb",
   "provenance": []
  },
  "kernelspec": {
   "display_name": "Python 3",
   "language": "python",
   "name": "python3"
  },
  "language_info": {
   "codemirror_mode": {
    "name": "ipython",
    "version": 3
   },
   "file_extension": ".py",
   "mimetype": "text/x-python",
   "name": "python",
   "nbconvert_exporter": "python",
   "pygments_lexer": "ipython3",
   "version": "3.8.5"
  }
 },
 "nbformat": 4,
 "nbformat_minor": 1
}
